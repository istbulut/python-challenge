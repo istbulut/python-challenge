{
 "cells": [
  {
   "cell_type": "code",
   "execution_count": 1,
   "id": "520a647b",
   "metadata": {},
   "outputs": [
    {
     "name": "stdout",
     "output_type": "stream",
     "text": [
      "Election Results\n",
      "------------------------\n",
      "Total Vote:  369711\n",
      "-------------------------\n",
      "Charles Casper Stockham:  23.049% ( 85213 )\n",
      "Diana Degette:  73.812% ( 272892 )\n",
      "Raymon Anthony Doane:  3.139% ( 11606 )\n",
      "-------------------------\n",
      "Winner: Diana Degette\n"
     ]
    }
   ],
   "source": [
    "import os\n",
    "import csv\n",
    "\n",
    "election_path = os.path.join(\"Resources\",\"election_data.csv\")\n",
    "total_vote_counter = 0\n",
    "\n",
    "newlist1 = []\n",
    "newlist2 = []\n",
    "newlist3 = []\n",
    "\n",
    "candidate_votes = {}\n",
    "\n",
    "with open(election_path) as csv_file:\n",
    "    csv_reader = csv.reader(csv_file, delimiter=\",\")\n",
    "    csv_header = next(csv_file)\n",
    "    print(\"Election Results\")\n",
    "    print(\"------------------------\")\n",
    "\n",
    "    for x in csv_reader:\n",
    "        candidate_name = x[2]\n",
    "        if candidate_name in candidate_votes:\n",
    "            candidate_votes[candidate_name] += 1\n",
    "        else:\n",
    "            candidate_votes[candidate_name] = 1\n",
    "\n",
    "        if \"Charles Casper Stockham\" in x:\n",
    "            newlist1.append(x)\n",
    "\n",
    "        if \"Diana DeGette\" in x:\n",
    "            newlist2.append(x)\n",
    "\n",
    "        if \"Raymon Anthony Doane\" in x:\n",
    "            newlist3.append(x)\n",
    "\n",
    "        total_vote_counter = total_vote_counter + 1\n",
    "\n",
    "vote_c = len(newlist1)\n",
    "vote_d = len(newlist2)\n",
    "vote_r = len(newlist3)\n",
    "\n",
    "percent_charles = len(newlist1) / total_vote_counter\n",
    "percent_diana = len(newlist2) / total_vote_counter\n",
    "percent_raymon = len(newlist3) / total_vote_counter\n",
    "\n",
    "percent_c = \"{:.3%}\".format(percent_charles)\n",
    "percent_d = \"{:.3%}\".format(percent_diana)\n",
    "percent_r = \"{:.3%}\".format(percent_raymon)\n",
    "\n",
    "print(\"Total Vote: \", total_vote_counter)\n",
    "print(\"-------------------------\")\n",
    "print(\"Charles Casper Stockham: \", percent_c, \"(\", vote_c, \")\")\n",
    "print(\"Diana Degette: \", percent_d, \"(\", vote_d, \")\")\n",
    "print(\"Raymon Anthony Doane: \", percent_r, \"(\", (vote_r), \")\")\n",
    "print(\"-------------------------\")\n",
    "\n",
    "if vote_c > vote_d and vote_c > vote_r:\n",
    "    print(\"Winner: Charles Casper Stockham\")\n",
    "elif vote_d > vote_c and vote_d > vote_r:\n",
    "    print(\"Winner: Diana Degette\")\n",
    "elif vote_r > vote_d and vote_r > vote_c:\n",
    "    print(\"Winner: Raymon Anthony Doane\")\n"
   ]
  },
  {
   "cell_type": "code",
   "execution_count": null,
   "id": "a1334942",
   "metadata": {},
   "outputs": [],
   "source": []
  }
 ],
 "metadata": {
  "kernelspec": {
   "display_name": "Python 3 (ipykernel)",
   "language": "python",
   "name": "python3"
  },
  "language_info": {
   "codemirror_mode": {
    "name": "ipython",
    "version": 3
   },
   "file_extension": ".py",
   "mimetype": "text/x-python",
   "name": "python",
   "nbconvert_exporter": "python",
   "pygments_lexer": "ipython3",
   "version": "3.9.13"
  }
 },
 "nbformat": 4,
 "nbformat_minor": 5
}

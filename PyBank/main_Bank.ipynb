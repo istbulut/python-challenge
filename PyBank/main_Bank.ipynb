{
 "cells": [
  {
   "cell_type": "code",
   "execution_count": 1,
   "id": "42ff37f5",
   "metadata": {},
   "outputs": [
    {
     "name": "stdout",
     "output_type": "stream",
     "text": [
      "Financial Anaysis\n",
      "--------------------\n",
      "Total Months:  86\n",
      "Total:  22564198.0\n",
      "Average Change:  -8311.106\n",
      "Greatest Increase in Profits:  16-Aug ( 1862002.0 )\n",
      "Greatest Decrease in Profits:  14-Feb ( -1825558.0 )\n"
     ]
    }
   ],
   "source": [
    "import os\n",
    "import csv\n",
    "\n",
    "bank_path = os.path.join(\"Resources\",\"budget_data.csv\")\n",
    "\n",
    "month_count = 0\n",
    "running_cost_total = 0\n",
    "change_total = 0\n",
    "previous_number = None\n",
    "\n",
    "greatest_increase = 0\n",
    "greatest_increase_month = None\n",
    "greatest_decrease = 0\n",
    "greatest_decrease_month = None\n",
    "\n",
    "with open(bank_path) as csv_file:\n",
    "    csv_reader = csv.reader(csv_file, delimiter=\",\")\n",
    "    csv_header = next(csv_file)\n",
    "    #print(f\"header:{csv_header}\")\n",
    "\n",
    "    for row in csv_reader:\n",
    "        month = row[0]\n",
    "        number = float(row[1])\n",
    "\n",
    "        running_cost_total += number\n",
    "\n",
    "        if previous_number is not None:\n",
    "            change = number - previous_number\n",
    "            change_total += change\n",
    "\n",
    "            if change > 0 and change > greatest_increase:\n",
    "                greatest_increase = change\n",
    "                greatest_increase_month = month\n",
    "            elif change < 0 and change < greatest_decrease:\n",
    "                greatest_decrease = change\n",
    "                greatest_decrease_month = month\n",
    "\n",
    "        month_count += 1\n",
    "        previous_number = number\n",
    "        \n",
    "average_change=change_total /(month_count-1)\n",
    "average_change = \"{:.3f}\".format(average_change)\n",
    "       \n",
    "             \n",
    "        \n",
    "print(\"Financial Anaysis\") \n",
    "print(\"--------------------\")\n",
    "print(\"Total Months: \", month_count)\n",
    "print(\"Total: \", running_cost_total)\n",
    "print(\"Average Change: \", average_change)\n",
    "print(\n",
    "    \"Greatest Increase in Profits: \",\n",
    "    greatest_increase_month,\n",
    "    \"(\",\n",
    "    greatest_increase,\n",
    "    \")\",\n",
    ")\n",
    "print(\n",
    "    \"Greatest Decrease in Profits: \",\n",
    "    greatest_decrease_month,\n",
    "    \"(\",\n",
    "    greatest_decrease,\n",
    "    \")\",\n",
    ")\n"
   ]
  },
  {
   "cell_type": "code",
   "execution_count": null,
   "id": "8c3dcb68",
   "metadata": {},
   "outputs": [],
   "source": []
  }
 ],
 "metadata": {
  "kernelspec": {
   "display_name": "Python 3 (ipykernel)",
   "language": "python",
   "name": "python3"
  },
  "language_info": {
   "codemirror_mode": {
    "name": "ipython",
    "version": 3
   },
   "file_extension": ".py",
   "mimetype": "text/x-python",
   "name": "python",
   "nbconvert_exporter": "python",
   "pygments_lexer": "ipython3",
   "version": "3.9.13"
  }
 },
 "nbformat": 4,
 "nbformat_minor": 5
}
